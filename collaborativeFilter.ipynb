{
 "cells": [
  {
   "attachments": {},
   "cell_type": "markdown",
   "metadata": {},
   "source": [
    "# Ví dụ Collaborative Filtering "
   ]
  },
  {
   "attachments": {},
   "cell_type": "markdown",
   "metadata": {},
   "source": [
    "Đây là đoạn code mà tôi implement bằng phương pháp Lọc Cộng Tác (Collaborative Filtering) bằng 2 phương pháp:  \n",
    "\n",
    "- Lọc Cộng Tác dựa trên Người dùng (User-User Collaborative Filtering)\n",
    "- Lọc Cộng Tác theo Mục (Item-Item Collaborative Filtering)"
   ]
  },
  {
   "cell_type": "code",
   "execution_count": 2,
   "metadata": {},
   "outputs": [],
   "source": [
    "import pandas as pd\n",
    "import numpy as np\n",
    "from sklearn.metrics.pairwise import cosine_similarity\n",
    "from scipy import sparse\n",
    "\n",
    "class CF(object):\n",
    "    def __init__(self, Y_data, k, dist_func = cosine_similarity, CF = 1):\n",
    "        self.CF = CF       # 1 for user-user, 0 for item-item\n",
    "        self.Y_data = Y_data if CF else Y_data[:, [1, 0, 2]]\n",
    "        self.k = k       # Number of neigh\n",
    "        self.dist_func = dist_func  \n",
    "        self.Ybar_data = None\n",
    "\n",
    "        # Number of users and items. Remember to add 1 since id starts from 0\n",
    "        if self.CF == 1:\n",
    "            self.n_users = int(np.max(self.Y_data[:, 0])) + 1\n",
    "            self.n_items = int(np.max(self.Y_data[:, 1])) + 1\n",
    "        else:\n",
    "            self.n_users = int(np.max(self.Y_data[:, 1])) + 1\n",
    "            self.n_items = int(np.max(self.Y_data[:, 0])) + 1\n",
    "\n",
    "    def add(self, new_data):\n",
    "        self.Y_data = np.concatenate((self.Y_data, new_data), axis = 0)\n",
    "\n",
    "    \n",
    "    def normalize_Y(self):\n",
    "        \"\"\"\n",
    "        base variable could be users in the (user-user) or items in (item-item)\n",
    "        \"\"\"\n",
    "\n",
    "        base = self.Y_data[:, 0]   # First col of the Y_data\n",
    "        self.Ybar_data = self.Y_data.copy()\n",
    "        # print(self.Ybar_data)\n",
    "        self.mean = np.zeros((self.n_users, ))\n",
    "\n",
    "        if (self.CF == 0):\n",
    "            self.mean = np.zeros((self.n_items, ))\n",
    "        \n",
    "        for n in range(self.mean.shape[0]):\n",
    "            # print(np.where(users == n))\n",
    "            ids = np.where(base == n)[0].astype(np.int32)\n",
    "            # print(ids)\n",
    "            item_or_users_ids = self.Y_data[ids, 1]\n",
    "            ratings = self.Y_data[ids, 2]\n",
    "\n",
    "            m = np.mean(ratings)\n",
    "            if np.isnan(m):\n",
    "                m = 0   # to avoid empty array and nan value\n",
    "            self.mean[n] = m\n",
    "            self.Ybar_data[ids, 2] = ratings - self.mean[n]\n",
    "\n",
    "\n",
    "        ################################################\n",
    "        # form the rating matrix as a sparse matrix. Sparsity is important \n",
    "        # for both memory and computing efficiency. For example, if #user = 1M, \n",
    "        # #item = 100k, then shape of the rating matrix would be (100k, 1M), \n",
    "        # you may not have enough memory to store this. Then, instead, we store \n",
    "        # nonzeros only, and, of course, their locations.\n",
    "        if (self.CF == 1):\n",
    "            self.Ybar = sparse.coo_matrix((self.Ybar_data[:, 2],\n",
    "                (self.Ybar_data[:, 1], self.Ybar_data[:, 0])), (self.n_items, self.n_users))\n",
    "        else:\n",
    "            self.Ybar = sparse.coo_matrix((self.Ybar_data[:, 2],\n",
    "                (self.Ybar_data[:, 1], self.Ybar_data[:, 0])), (self.n_users, self.n_items))\n",
    "            \n",
    "        self.Ybar = self.Ybar.tocsr()\n",
    "    \n",
    "    def similarity(self):\n",
    "        # eps = 1e-6\n",
    "        self.S = self.dist_func(self.Ybar.T, self.Ybar.T)\n",
    "\n",
    "    \n",
    "    def refresh(self):\n",
    "        \"\"\"\n",
    "        Normalize data and calculate similarity matrix again \n",
    "        (after some few ratings change)\n",
    "        \"\"\"\n",
    "        self.normalize_Y()\n",
    "        self.similarity()\n",
    "\n",
    "\n",
    "    def fit(self):\n",
    "        self.refresh()\n",
    "\n",
    "\n",
    "    def __pred(self, u, i, normalized = 1):\n",
    "        \"\"\"\n",
    "        Predict the rating of user u for item i (normalized)\n",
    "        if you need the un\n",
    "        \"\"\"\n",
    "\n",
    "        # Step 1: Find all users who rated i\n",
    "        ids = np.where(self.Y_data[:, 1] == i)[0].astype(np.int32)\n",
    "\n",
    "        # Step 2: \n",
    "        users_rated_i = (self.Y_data[ids, 0]).astype(np.int32)\n",
    "\n",
    "        # Step 3: Find similarity between the current user and others\n",
    "        # who already rated_i\n",
    "        sim = self.S[u, users_rated_i]\n",
    "        # print(self.S)\n",
    "        # Step 4: Find the k most similarity users\n",
    "        a = np.argsort(sim)[-self.k: ]\n",
    "        nearest_s = sim[a]\n",
    "\n",
    "        # How did each of 'near' users rated item i\n",
    "        r = self.Ybar[i, users_rated_i[a]]\n",
    "        if normalized:\n",
    "            return (r * nearest_s)[0] / (np.abs(nearest_s).sum() + 1e-8)\n",
    "        \n",
    "        return (r * nearest_s)[0] / (np.abs(nearest_s).sum() + 1e-8) + self.mean[u]\n",
    "    \n",
    "    def pred(self, u, i, normalized = 1):\n",
    "        return self.__pred(u, i, normalized)\n",
    "    \n",
    "    \n",
    "    def recommend(self, u):\n",
    "        ids = np.where(self.Y_data[:, 0] == u)[0]\n",
    "        items_rated_by_u = self.Y_data[ids, 1].tolist()\n",
    "        recommended_items = []\n",
    "        \n",
    "        if (self.CF):\n",
    "            for i in range(self.n_items):\n",
    "                if i not in items_rated_by_u:\n",
    "                    rating = self.pred(u, i)\n",
    "                    if rating > 0:\n",
    "                        recommended_items.append(i)\n",
    "        else:\n",
    "            for i in range(self.n_users):\n",
    "                if i not in items_rated_by_u:\n",
    "                    rating = self.pred(u, i)\n",
    "                    if rating > 0:\n",
    "                        recommended_items.append(i)\n",
    "\n",
    "\n",
    "        return recommended_items\n",
    "\n",
    "    def print_recommendation(self):\n",
    "        print(\"Recommendation: \")\n",
    "        \n",
    "        if (self.CF):\n",
    "            for u in range(self.n_users):\n",
    "                recommended_items = self.recommend(u)\n",
    "               \n",
    "                print(f'\\tRecommend items(s): {recommended_items} for user {u}')\n",
    "        else:\n",
    "            for i in range(self.n_items):\n",
    "                recommended_users = self.recommend(i)\n",
    "\n",
    "                print(f'\\tRecommend item  {i} for user(s) {recommended_users}')\n",
    "                "
   ]
  },
  {
   "cell_type": "code",
   "execution_count": 3,
   "metadata": {},
   "outputs": [
    {
     "name": "stdout",
     "output_type": "stream",
     "text": [
      "Singularity matrix is: \n",
      "[[ 1.          0.83307435 -0.5809475  -0.7856742  -0.81649658  0.20412415\n",
      "  -0.38133693]\n",
      " [ 0.83307435  1.         -0.87333376 -0.3986205  -0.55234477 -0.23014365\n",
      "  -0.70756759]\n",
      " [-0.5809475  -0.87333376  1.          0.27386128  0.31622777  0.47434165\n",
      "   0.9621024 ]\n",
      " [-0.7856742  -0.3986205   0.27386128  1.          0.8660254  -0.28867513\n",
      "   0.18490007]\n",
      " [-0.81649658 -0.55234477  0.31622777  0.8660254   1.          0.\n",
      "   0.16012815]\n",
      " [ 0.20412415 -0.23014365  0.47434165 -0.28867513  0.          1.\n",
      "   0.56044854]\n",
      " [-0.38133693 -0.70756759  0.9621024   0.18490007  0.16012815  0.56044854\n",
      "   1.        ]]\n",
      "Recommendation: \n",
      "\tRecommend items(s): [2] for user 0\n",
      "\tRecommend items(s): [1] for user 1\n",
      "\tRecommend items(s): [] for user 2\n",
      "\tRecommend items(s): [4] for user 3\n",
      "\tRecommend items(s): [4] for user 4\n",
      "\tRecommend items(s): [0, 3, 4] for user 5\n",
      "\tRecommend items(s): [1] for user 6\n"
     ]
    }
   ],
   "source": [
    "r_cols = ['user_id', 'item_id', 'rating']\n",
    "ratings = pd.read_csv('ex.dat', sep = ' ', names = r_cols, encoding='latin-1')\n",
    "Y_data = ratings.to_numpy()\n",
    "\n",
    "rs = CF(Y_data, k = 2, CF = 1)\n",
    "rs.fit()\n",
    "\n",
    "print(f\"Singularity matrix is: \\n{rs.S}\")\n",
    "rs.print_recommendation()"
   ]
  },
  {
   "cell_type": "code",
   "execution_count": 4,
   "metadata": {},
   "outputs": [
    {
     "name": "stdout",
     "output_type": "stream",
     "text": [
      "Singularity matrix is: \n",
      "[[ 1.          0.7678689   0.48903062 -0.88910122 -0.51743661]\n",
      " [ 0.7678689   1.          0.         -0.64326752 -0.13808619]\n",
      " [ 0.48903062  0.          1.         -0.54711014 -0.88318408]\n",
      " [-0.88910122 -0.64326752 -0.54711014  1.          0.68100212]\n",
      " [-0.51743661 -0.13808619 -0.88318408  0.68100212  1.        ]]\n",
      "Recommendation: \n",
      "\tRecommend item  0 for user(s) []\n",
      "\tRecommend item  1 for user(s) [1]\n",
      "\tRecommend item  2 for user(s) [0]\n",
      "\tRecommend item  3 for user(s) [5]\n",
      "\tRecommend item  4 for user(s) [3, 4, 5]\n"
     ]
    }
   ],
   "source": [
    "rs_2 = CF(Y_data, k = 2, CF = 0)\n",
    "rs_2.fit()\n",
    "\n",
    "print(f\"Singularity matrix is: \\n{rs_2.S}\")\n",
    "rs_2.print_recommendation()"
   ]
  },
  {
   "attachments": {},
   "cell_type": "markdown",
   "metadata": {},
   "source": [
    "## With MovieLens 100k dataset"
   ]
  },
  {
   "attachments": {},
   "cell_type": "markdown",
   "metadata": {},
   "source": [
    "[Bộ dataset MovieLens 100k](https://grouplens.org/datasets/movielens/100k/) được công bố bởi GroupLens vào tháng 4/1998. MovieLens gồm có 100,000 *ratings* từ 943 *users* cho 1682 bộ phim (có dung lượng là 5MB) "
   ]
  },
  {
   "cell_type": "code",
   "execution_count": 6,
   "metadata": {},
   "outputs": [],
   "source": [
    "r_cols = ['user_id', 'movie_id', 'rating', 'unix_timestamp']\n",
    "\n",
    "ratings_base = pd.read_csv('ml-100k/ub.base', sep='\\t', names=r_cols, encoding='latin-1')\n",
    "ratings_test = pd.read_csv('ml-100k/ub.test', sep='\\t', names=r_cols, encoding='latin-1')\n",
    "\n",
    "rate_train = ratings_base.to_numpy()\n",
    "rate_test = ratings_test.to_numpy()\n",
    "\n",
    "# indices start from 0\n",
    "rate_train[:, :2] -= 1\n",
    "rate_test[:, :2] -= 1"
   ]
  },
  {
   "cell_type": "code",
   "execution_count": 12,
   "metadata": {},
   "outputs": [
    {
     "data": {
      "text/html": [
       "<div>\n",
       "<style scoped>\n",
       "    .dataframe tbody tr th:only-of-type {\n",
       "        vertical-align: middle;\n",
       "    }\n",
       "\n",
       "    .dataframe tbody tr th {\n",
       "        vertical-align: top;\n",
       "    }\n",
       "\n",
       "    .dataframe thead th {\n",
       "        text-align: right;\n",
       "    }\n",
       "</style>\n",
       "<table border=\"1\" class=\"dataframe\">\n",
       "  <thead>\n",
       "    <tr style=\"text-align: right;\">\n",
       "      <th></th>\n",
       "      <th>user_id</th>\n",
       "      <th>movie_id</th>\n",
       "      <th>rating</th>\n",
       "      <th>unix_timestamp</th>\n",
       "    </tr>\n",
       "  </thead>\n",
       "  <tbody>\n",
       "    <tr>\n",
       "      <th>0</th>\n",
       "      <td>0</td>\n",
       "      <td>0</td>\n",
       "      <td>5</td>\n",
       "      <td>874965758</td>\n",
       "    </tr>\n",
       "    <tr>\n",
       "      <th>1</th>\n",
       "      <td>0</td>\n",
       "      <td>1</td>\n",
       "      <td>3</td>\n",
       "      <td>876893171</td>\n",
       "    </tr>\n",
       "    <tr>\n",
       "      <th>2</th>\n",
       "      <td>0</td>\n",
       "      <td>2</td>\n",
       "      <td>4</td>\n",
       "      <td>878542960</td>\n",
       "    </tr>\n",
       "    <tr>\n",
       "      <th>3</th>\n",
       "      <td>0</td>\n",
       "      <td>3</td>\n",
       "      <td>3</td>\n",
       "      <td>876893119</td>\n",
       "    </tr>\n",
       "    <tr>\n",
       "      <th>4</th>\n",
       "      <td>0</td>\n",
       "      <td>4</td>\n",
       "      <td>3</td>\n",
       "      <td>889751712</td>\n",
       "    </tr>\n",
       "  </tbody>\n",
       "</table>\n",
       "</div>"
      ],
      "text/plain": [
       "   user_id  movie_id  rating  unix_timestamp\n",
       "0        0         0       5       874965758\n",
       "1        0         1       3       876893171\n",
       "2        0         2       4       878542960\n",
       "3        0         3       3       876893119\n",
       "4        0         4       3       889751712"
      ]
     },
     "execution_count": 12,
     "metadata": {},
     "output_type": "execute_result"
    }
   ],
   "source": [
    "ratings_base.head()"
   ]
  },
  {
   "cell_type": "code",
   "execution_count": 19,
   "metadata": {},
   "outputs": [
    {
     "data": {
      "text/plain": [
       "943"
      ]
     },
     "execution_count": 19,
     "metadata": {},
     "output_type": "execute_result"
    }
   ],
   "source": [
    "len(np.unique(ratings_base['user_id']))"
   ]
  },
  {
   "cell_type": "code",
   "execution_count": 15,
   "metadata": {},
   "outputs": [
    {
     "data": {
      "text/html": [
       "<div>\n",
       "<style scoped>\n",
       "    .dataframe tbody tr th:only-of-type {\n",
       "        vertical-align: middle;\n",
       "    }\n",
       "\n",
       "    .dataframe tbody tr th {\n",
       "        vertical-align: top;\n",
       "    }\n",
       "\n",
       "    .dataframe thead th {\n",
       "        text-align: right;\n",
       "    }\n",
       "</style>\n",
       "<table border=\"1\" class=\"dataframe\">\n",
       "  <thead>\n",
       "    <tr style=\"text-align: right;\">\n",
       "      <th></th>\n",
       "      <th>user_id</th>\n",
       "      <th>movie_id</th>\n",
       "      <th>rating</th>\n",
       "      <th>unix_timestamp</th>\n",
       "    </tr>\n",
       "  </thead>\n",
       "  <tbody>\n",
       "    <tr>\n",
       "      <th>0</th>\n",
       "      <td>0</td>\n",
       "      <td>16</td>\n",
       "      <td>3</td>\n",
       "      <td>875073198</td>\n",
       "    </tr>\n",
       "    <tr>\n",
       "      <th>1</th>\n",
       "      <td>0</td>\n",
       "      <td>46</td>\n",
       "      <td>4</td>\n",
       "      <td>875072125</td>\n",
       "    </tr>\n",
       "    <tr>\n",
       "      <th>2</th>\n",
       "      <td>0</td>\n",
       "      <td>63</td>\n",
       "      <td>5</td>\n",
       "      <td>875072404</td>\n",
       "    </tr>\n",
       "    <tr>\n",
       "      <th>3</th>\n",
       "      <td>0</td>\n",
       "      <td>89</td>\n",
       "      <td>4</td>\n",
       "      <td>878542300</td>\n",
       "    </tr>\n",
       "    <tr>\n",
       "      <th>4</th>\n",
       "      <td>0</td>\n",
       "      <td>91</td>\n",
       "      <td>3</td>\n",
       "      <td>876892425</td>\n",
       "    </tr>\n",
       "  </tbody>\n",
       "</table>\n",
       "</div>"
      ],
      "text/plain": [
       "   user_id  movie_id  rating  unix_timestamp\n",
       "0        0        16       3       875073198\n",
       "1        0        46       4       875072125\n",
       "2        0        63       5       875072404\n",
       "3        0        89       4       878542300\n",
       "4        0        91       3       876892425"
      ]
     },
     "execution_count": 15,
     "metadata": {},
     "output_type": "execute_result"
    }
   ],
   "source": [
    "ratings_test.head()"
   ]
  },
  {
   "cell_type": "code",
   "execution_count": 21,
   "metadata": {},
   "outputs": [
    {
     "data": {
      "text/plain": [
       "array([   0,    1,    2, ..., 1679, 1680, 1681])"
      ]
     },
     "execution_count": 21,
     "metadata": {},
     "output_type": "execute_result"
    }
   ],
   "source": [
    "np.unique(ratings_base['movie_id'])"
   ]
  },
  {
   "cell_type": "code",
   "execution_count": 9,
   "metadata": {},
   "outputs": [
    {
     "name": "stdout",
     "output_type": "stream",
     "text": [
      "User-user CF, RMSE = 0.9951981100882598\n"
     ]
    }
   ],
   "source": [
    "rs = CF(rate_train, k = 30, CF = 1)\n",
    "rs.fit()\n",
    "\n",
    "n_tests = rate_test.shape[0]\n",
    "SE = 0 # squared error\n",
    "for n in range(n_tests):\n",
    "    pred = rs.pred(rate_test[n, 0], rate_test[n, 1], normalized = 0)\n",
    "    SE += (pred - rate_test[n, 2])**2 \n",
    "\n",
    "RMSE = np.sqrt(SE/n_tests)\n",
    "print('User-user CF, RMSE =', RMSE)"
   ]
  },
  {
   "cell_type": "code",
   "execution_count": 11,
   "metadata": {},
   "outputs": [
    {
     "name": "stdout",
     "output_type": "stream",
     "text": [
      "Item-item CF, RMSE = 0.9867912132705384\n"
     ]
    }
   ],
   "source": [
    "rs = CF(rate_train, k = 30, CF = 0)\n",
    "rs.fit()\n",
    "\n",
    "n_tests = rate_test.shape[0]\n",
    "SE = 0 # squared error\n",
    "for n in range(n_tests):\n",
    "    pred = rs.pred(rate_test[n, 1], rate_test[n, 0], normalized = 0)\n",
    "    SE += (pred - rate_test[n, 2])**2 \n",
    "\n",
    "RMSE = np.sqrt(SE/n_tests)\n",
    "print('Item-item CF, RMSE =', RMSE)"
   ]
  },
  {
   "cell_type": "code",
   "execution_count": null,
   "metadata": {},
   "outputs": [],
   "source": []
  }
 ],
 "metadata": {
  "kernelspec": {
   "display_name": "learningnlp",
   "language": "python",
   "name": "python3"
  },
  "language_info": {
   "codemirror_mode": {
    "name": "ipython",
    "version": 3
   },
   "file_extension": ".py",
   "mimetype": "text/x-python",
   "name": "python",
   "nbconvert_exporter": "python",
   "pygments_lexer": "ipython3",
   "version": "3.8.10"
  },
  "orig_nbformat": 4,
  "vscode": {
   "interpreter": {
    "hash": "34306a5b37ec00f27dce6ff4e1cef1b2abd4234c6acb058aae7b09d10af30dc2"
   }
  }
 },
 "nbformat": 4,
 "nbformat_minor": 2
}
